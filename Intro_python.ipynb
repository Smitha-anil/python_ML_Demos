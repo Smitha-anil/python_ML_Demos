{
  "nbformat": 4,
  "nbformat_minor": 0,
  "metadata": {
    "colab": {
      "name": "Intro python.ipynb",
      "provenance": [],
      "collapsed_sections": []
    },
    "kernelspec": {
      "name": "python3",
      "display_name": "Python 3"
    },
    "accelerator": "GPU"
  },
  "cells": [
    {
      "cell_type": "code",
      "metadata": {
        "colab": {
          "base_uri": "https://localhost:8080/"
        },
        "id": "I29XBGaBBwwO",
        "outputId": "c223b8cc-3546-4c5d-a66d-a976fde61289"
      },
      "source": [
        "a=5\r\n",
        "print(a)\r\n",
        "print(\"hello\")"
      ],
      "execution_count": 62,
      "outputs": [
        {
          "output_type": "stream",
          "text": [
            "5\n",
            "hello\n"
          ],
          "name": "stdout"
        }
      ]
    },
    {
      "cell_type": "markdown",
      "metadata": {
        "id": "S2zMPc58Bxaq"
      },
      "source": [
        "Python"
      ]
    },
    {
      "cell_type": "code",
      "metadata": {
        "id": "bpXxpocb-C0v",
        "colab": {
          "base_uri": "https://localhost:8080/"
        },
        "outputId": "2213b71e-f8d9-4913-dac4-82be31e683c1"
      },
      "source": [
        "x = 3\n",
        "y = 3.5\n",
        "\n",
        "\n",
        "print(type(x))\n",
        "print(type(y))"
      ],
      "execution_count": 3,
      "outputs": [
        {
          "output_type": "stream",
          "text": [
            "<class 'int'>\n",
            "<class 'float'>\n"
          ],
          "name": "stdout"
        }
      ]
    },
    {
      "cell_type": "markdown",
      "metadata": {
        "id": "UvPRJy0i4SRp"
      },
      "source": [
        "###  Importing Libraries in Python\n",
        "1.   Importing library (math).\n",
        "2.   Performing  math operations (Ceiling/Floor/Factorial/GCD)."
      ]
    },
    {
      "cell_type": "code",
      "metadata": {
        "id": "hmDCwIFn5EYr",
        "colab": {
          "base_uri": "https://localhost:8080/"
        },
        "outputId": "980fe4d2-f593-48dc-b3ca-0ddf82f69641"
      },
      "source": [
        "import math as mt\n",
        "\n",
        "x = 4.5\n",
        "y =  5\n",
        "\n",
        "a = 35\n",
        "b = 40\n",
        "\n",
        "print(math.ceil(x))\n",
        "print(math.floor(x))\n",
        "print(math.factorial(y))\n",
        "print(math.gcd(a,b))"
      ],
      "execution_count": 64,
      "outputs": [
        {
          "output_type": "stream",
          "text": [
            "5\n",
            "4\n",
            "120\n",
            "5\n"
          ],
          "name": "stdout"
        }
      ]
    },
    {
      "cell_type": "code",
      "metadata": {
        "id": "hRCRni6B0sqG",
        "colab": {
          "base_uri": "https://localhost:8080/"
        },
        "outputId": "a07a82ad-6694-45d4-b60a-b51661583958"
      },
      "source": [
        " a = \"NITK\"\n",
        " b = \" MACS Dept\"\n",
        "  \n",
        " print(a+b)"
      ],
      "execution_count": 65,
      "outputs": [
        {
          "output_type": "stream",
          "text": [
            "NITK CSE Dept\n"
          ],
          "name": "stdout"
        }
      ]
    },
    {
      "cell_type": "markdown",
      "metadata": {
        "id": "MmwJZLA6EXqP"
      },
      "source": [
        "###  **Containers**: Python includes several built-in container to hold the data.\n",
        "\n",
        "1.   Arrays\n",
        "2.   Lists\n",
        "2.   Tuples\n",
        "3.   Dictionaries\n",
        "4.   Sets\n",
        "\n",
        "\n"
      ]
    },
    {
      "cell_type": "markdown",
      "metadata": {
        "id": "B9RCdg4hyg7F"
      },
      "source": [
        "\n",
        "### Numpy (Numerical Python) : \n",
        "Numpy is the core library for scientific computing in Python. It provides a high-performance multidimensional array object, and tools for working with these arrays.\n",
        "\n",
        "#### Arrays: \n",
        "A numpy array is a grid of values, all of the same type, and is indexed by a tuple of non negative integers. The number of dimensions is the rank of the array; the shape of an array is a tuple of integers giving the size of the array along each dimension.\n",
        "#### Array Operations\n",
        "1.   Declaring Array\n",
        "2.   Indentify the type\n",
        "1.   Accesing Array elements\n",
        "2.   Printing the last element\n",
        "3.   Printing the lenght of the array\n",
        "2.   clearing the Array\n",
        "6.   Deleting the Array"
      ]
    },
    {
      "cell_type": "code",
      "metadata": {
        "id": "mNji0UOmKc1s",
        "colab": {
          "base_uri": "https://localhost:8080/"
        },
        "outputId": "9b6a1a45-7c88-4d1d-c373-f0be2febaacf"
      },
      "source": [
        "import numpy as np\n",
        "a = np.array([1,2,3,4,5,6])\n",
        "print(a)"
      ],
      "execution_count": 66,
      "outputs": [
        {
          "output_type": "stream",
          "text": [
            "[1 2 3 4 5 6]\n"
          ],
          "name": "stdout"
        }
      ]
    },
    {
      "cell_type": "code",
      "metadata": {
        "id": "IejtEvXKRu5u",
        "colab": {
          "base_uri": "https://localhost:8080/"
        },
        "outputId": "7c4dd2e4-8bb2-4fa9-bc0e-867a972f429f"
      },
      "source": [
        "print(type(a))\r\n",
        "print(a.shape)"
      ],
      "execution_count": 68,
      "outputs": [
        {
          "output_type": "stream",
          "text": [
            "<class 'numpy.ndarray'>\n",
            "(6,)\n"
          ],
          "name": "stdout"
        }
      ]
    },
    {
      "cell_type": "code",
      "metadata": {
        "id": "V6tfvTxWKc-C",
        "colab": {
          "base_uri": "https://localhost:8080/"
        },
        "outputId": "24f0c76c-f53c-4345-9114-857ab68d6556"
      },
      "source": [
        "print(a[0])"
      ],
      "execution_count": 8,
      "outputs": [
        {
          "output_type": "stream",
          "text": [
            "1\n"
          ],
          "name": "stdout"
        }
      ]
    },
    {
      "cell_type": "code",
      "metadata": {
        "id": "shNCzw6jKdFI",
        "colab": {
          "base_uri": "https://localhost:8080/"
        },
        "outputId": "7292bdf9-9984-4dd9-d4f9-6da2e924494a"
      },
      "source": [
        "print(a[-1])"
      ],
      "execution_count": 9,
      "outputs": [
        {
          "output_type": "stream",
          "text": [
            "6\n"
          ],
          "name": "stdout"
        }
      ]
    },
    {
      "cell_type": "code",
      "metadata": {
        "id": "MTTmTcpA2OUq",
        "colab": {
          "base_uri": "https://localhost:8080/"
        },
        "outputId": "8f86fd64-c324-4f56-d07b-e16db29e9c94"
      },
      "source": [
        "print(len(a))"
      ],
      "execution_count": 10,
      "outputs": [
        {
          "output_type": "stream",
          "text": [
            "6\n"
          ],
          "name": "stdout"
        }
      ]
    },
    {
      "cell_type": "code",
      "metadata": {
        "id": "3kjaSpDvKdaw"
      },
      "source": [
        "del a"
      ],
      "execution_count": 69,
      "outputs": []
    },
    {
      "cell_type": "code",
      "metadata": {
        "id": "KW0aEz7a1lx6",
        "colab": {
          "base_uri": "https://localhost:8080/",
          "height": 175
        },
        "outputId": "bf0dcfb7-dee3-453c-a12c-dcff656d202d"
      },
      "source": [
        "print(a)"
      ],
      "execution_count": 70,
      "outputs": [
        {
          "output_type": "error",
          "ename": "NameError",
          "evalue": "ignored",
          "traceback": [
            "\u001b[0;31m---------------------------------------------------------------------------\u001b[0m",
            "\u001b[0;31mNameError\u001b[0m                                 Traceback (most recent call last)",
            "\u001b[0;32m<ipython-input-70-bca0e2660b9f>\u001b[0m in \u001b[0;36m<module>\u001b[0;34m()\u001b[0m\n\u001b[0;32m----> 1\u001b[0;31m \u001b[0mprint\u001b[0m\u001b[0;34m(\u001b[0m\u001b[0ma\u001b[0m\u001b[0;34m)\u001b[0m\u001b[0;34m\u001b[0m\u001b[0;34m\u001b[0m\u001b[0m\n\u001b[0m",
            "\u001b[0;31mNameError\u001b[0m: name 'a' is not defined"
          ]
        }
      ]
    },
    {
      "cell_type": "markdown",
      "metadata": {
        "id": "7mcfyMo51Qh7"
      },
      "source": [
        "#### Array Operation (Continued)\n",
        "1.   Declaring the Array Using Random keyword\n",
        "2.   Printing the shape of the array\n",
        "3.   Length of the array\n",
        "4.   Dimension of the array"
      ]
    },
    {
      "cell_type": "code",
      "metadata": {
        "id": "6Ql7Uuap72Vh",
        "colab": {
          "base_uri": "https://localhost:8080/"
        },
        "outputId": "6ce2f651-d219-4aee-c99e-c57db8906116"
      },
      "source": [
        "import numpy as np\n",
        "import random\n",
        "\n",
        "a = np.random.randn(1) # 1dimensional\n",
        "\n",
        "print(a)\n",
        "print(a.shape)\n",
        "print(a.ndim)"
      ],
      "execution_count": 71,
      "outputs": [
        {
          "output_type": "stream",
          "text": [
            "[0.15353639]\n",
            "(1,)\n",
            "1\n"
          ],
          "name": "stdout"
        }
      ]
    },
    {
      "cell_type": "code",
      "metadata": {
        "id": "zu1Iz8p0H6a1",
        "colab": {
          "base_uri": "https://localhost:8080/"
        },
        "outputId": "58c13679-0c73-44e3-f5be-ccdec92b272c"
      },
      "source": [
        "\n",
        "b = np.random.randn(2,4) #2 dimensional\n",
        "\n",
        "print(b)\n",
        "print(b.shape)\n",
        "print(b.ndim)"
      ],
      "execution_count": 72,
      "outputs": [
        {
          "output_type": "stream",
          "text": [
            "[[ 1.14798215  0.98445983  1.40427595 -0.33166501]\n",
            " [-0.46278202 -0.32135031 -0.01090419  0.2290941 ]]\n",
            "(2, 4)\n",
            "2\n"
          ],
          "name": "stdout"
        }
      ]
    },
    {
      "cell_type": "markdown",
      "metadata": {
        "id": "Dkc_BArdrtrG"
      },
      "source": [
        "####  Numpy Functions\n",
        "\n",
        "\n",
        "1.   Ones\n",
        "2.   Zeros\n",
        "3.   Full\n",
        "4.   Identity Matrix\n"
      ]
    },
    {
      "cell_type": "code",
      "metadata": {
        "id": "KACJZWNNrs_9",
        "colab": {
          "base_uri": "https://localhost:8080/"
        },
        "outputId": "531981be-2996-40e1-813f-1adea9538265"
      },
      "source": [
        "import numpy as np\n",
        "\n",
        "a = np.ones((3,3))\n",
        "print(a)\n",
        "print(\"\")"
      ],
      "execution_count": 15,
      "outputs": [
        {
          "output_type": "stream",
          "text": [
            "[[1. 1. 1.]\n",
            " [1. 1. 1.]\n",
            " [1. 1. 1.]]\n",
            "\n"
          ],
          "name": "stdout"
        }
      ]
    },
    {
      "cell_type": "code",
      "metadata": {
        "id": "EqWVIqxNZLsS",
        "colab": {
          "base_uri": "https://localhost:8080/"
        },
        "outputId": "224824d2-97f5-4cb7-8f1c-66869a400a6c"
      },
      "source": [
        "b = np.zeros((3,3))\n",
        "print(b)\n",
        "print(\"\")"
      ],
      "execution_count": 16,
      "outputs": [
        {
          "output_type": "stream",
          "text": [
            "[[0. 0. 0.]\n",
            " [0. 0. 0.]\n",
            " [0. 0. 0.]]\n",
            "\n"
          ],
          "name": "stdout"
        }
      ]
    },
    {
      "cell_type": "code",
      "metadata": {
        "id": "3V-dd9wzZL8n",
        "colab": {
          "base_uri": "https://localhost:8080/"
        },
        "outputId": "ee8a97c7-a40b-48bb-abcc-4fcefaa440a4"
      },
      "source": [
        "c = np.full((3,3),5)\n",
        "print(c)\n",
        "print(\"\")\n"
      ],
      "execution_count": 73,
      "outputs": [
        {
          "output_type": "stream",
          "text": [
            "[[5 5 5]\n",
            " [5 5 5]\n",
            " [5 5 5]]\n",
            "\n"
          ],
          "name": "stdout"
        }
      ]
    },
    {
      "cell_type": "code",
      "metadata": {
        "id": "a0Q82JrLZMFW",
        "colab": {
          "base_uri": "https://localhost:8080/"
        },
        "outputId": "091a28b6-2371-4282-889f-50cf202094c4"
      },
      "source": [
        "d = np.eye((3))\n",
        "print(d)\n",
        "print(\"\")"
      ],
      "execution_count": 18,
      "outputs": [
        {
          "output_type": "stream",
          "text": [
            "[[1. 0. 0.]\n",
            " [0. 1. 0.]\n",
            " [0. 0. 1.]]\n",
            "\n"
          ],
          "name": "stdout"
        }
      ]
    },
    {
      "cell_type": "markdown",
      "metadata": {
        "id": "AlTbSrilmPmd"
      },
      "source": [
        "####  Vectorised Implementation\n",
        "\n",
        "\n",
        "1.   Addition\n",
        "1.   Subtraction\n",
        "2.   Multiplication\n",
        "2.   Dot Product\n",
        "\n"
      ]
    },
    {
      "cell_type": "code",
      "metadata": {
        "id": "beTKysBcmjyi"
      },
      "source": [
        "import numpy as np\n",
        "\n",
        "a = np.array([4,2,8,10])\n",
        "b = np.array([4,10,16,20])"
      ],
      "execution_count": 19,
      "outputs": []
    },
    {
      "cell_type": "code",
      "metadata": {
        "id": "blckYCewmp_N",
        "colab": {
          "base_uri": "https://localhost:8080/"
        },
        "outputId": "7f4dcae6-808f-4a62-9080-b23faf0d8754"
      },
      "source": [
        "print(a)\n",
        "print(b)"
      ],
      "execution_count": 20,
      "outputs": [
        {
          "output_type": "stream",
          "text": [
            "[ 4  2  8 10]\n",
            "[ 4 10 16 20]\n"
          ],
          "name": "stdout"
        }
      ]
    },
    {
      "cell_type": "markdown",
      "metadata": {
        "id": "SdKuW5FknDKx"
      },
      "source": [
        "#### Addition"
      ]
    },
    {
      "cell_type": "code",
      "metadata": {
        "id": "rjpq2GjknCTS",
        "colab": {
          "base_uri": "https://localhost:8080/"
        },
        "outputId": "9ad4b6fc-fc4b-482d-f20b-c5b9d0d9ad08"
      },
      "source": [
        "print(a+b)\r\n",
        "c=a+b"
      ],
      "execution_count": 74,
      "outputs": [
        {
          "output_type": "stream",
          "text": [
            "[[ 1.30151853  1.13799622  1.55781234 -0.17812862]\n",
            " [-0.30924563 -0.16781392  0.1426322   0.38263049]]\n"
          ],
          "name": "stdout"
        }
      ]
    },
    {
      "cell_type": "markdown",
      "metadata": {
        "id": "5xgsHZb0nIi0"
      },
      "source": [
        "**Subtraction**"
      ]
    },
    {
      "cell_type": "code",
      "metadata": {
        "id": "AJmbX4s9nMSw",
        "colab": {
          "base_uri": "https://localhost:8080/"
        },
        "outputId": "8e9235e0-1ba3-413e-af08-835c24267867"
      },
      "source": [
        "print(a-b)"
      ],
      "execution_count": 22,
      "outputs": [
        {
          "output_type": "stream",
          "text": [
            "[  0  -8  -8 -10]\n"
          ],
          "name": "stdout"
        }
      ]
    },
    {
      "cell_type": "markdown",
      "metadata": {
        "id": "MKf6KppanjJt"
      },
      "source": [
        "#### Dot Product"
      ]
    },
    {
      "cell_type": "code",
      "metadata": {
        "id": "Trr2gWjcnnD2",
        "colab": {
          "base_uri": "https://localhost:8080/"
        },
        "outputId": "cb3e7689-6062-4642-d877-9fbe9127bdc3"
      },
      "source": [
        "print(np.dot(a,b))"
      ],
      "execution_count": 23,
      "outputs": [
        {
          "output_type": "stream",
          "text": [
            "364\n"
          ],
          "name": "stdout"
        }
      ]
    },
    {
      "cell_type": "markdown",
      "metadata": {
        "id": "1LX_S1Xa3NU5"
      },
      "source": [
        "#### Assignment 5\n",
        "Perform \n",
        "\n",
        "1.   Muliplication\n",
        "2.   Division\n",
        "\n"
      ]
    },
    {
      "cell_type": "markdown",
      "metadata": {
        "id": "j_85Yij2nP98"
      },
      "source": [
        "#### Multiplication"
      ]
    },
    {
      "cell_type": "code",
      "metadata": {
        "id": "FpUK5jW9nQJG",
        "colab": {
          "base_uri": "https://localhost:8080/"
        },
        "outputId": "2392a609-89ad-426f-ba26-477546061786"
      },
      "source": [
        "print(a*b)"
      ],
      "execution_count": 24,
      "outputs": [
        {
          "output_type": "stream",
          "text": [
            "[ 16  20 128 200]\n"
          ],
          "name": "stdout"
        }
      ]
    },
    {
      "cell_type": "markdown",
      "metadata": {
        "id": "6u3h9PYP3yO5"
      },
      "source": [
        "#### Division"
      ]
    },
    {
      "cell_type": "code",
      "metadata": {
        "id": "Z05yr7MU3c4V",
        "colab": {
          "base_uri": "https://localhost:8080/"
        },
        "outputId": "26df6575-4897-4172-bbe4-9fbb333072ae"
      },
      "source": [
        "print(a/b)"
      ],
      "execution_count": 75,
      "outputs": [
        {
          "output_type": "stream",
          "text": [
            "[[  0.13374458   0.15596003   0.10933491  -0.46292609]\n",
            " [ -0.33176827  -0.4777851  -14.08049354   0.67018917]]\n"
          ],
          "name": "stdout"
        }
      ]
    },
    {
      "cell_type": "markdown",
      "metadata": {
        "id": "1k-Dld2xo1y2"
      },
      "source": [
        "#### Comparison between Vectorised and  Non Vectorised Implementation in Python"
      ]
    },
    {
      "cell_type": "code",
      "metadata": {
        "id": "1Y6GZe_2ohNM"
      },
      "source": [
        "import numpy as np\n",
        "num = 500\n",
        "a = np.random.random(num)\n",
        "b = np.random.random(num)"
      ],
      "execution_count": 26,
      "outputs": []
    },
    {
      "cell_type": "markdown",
      "metadata": {
        "id": "4ynrxobho3c3"
      },
      "source": [
        "#### Vectorised Implementation"
      ]
    },
    {
      "cell_type": "code",
      "metadata": {
        "id": "HeeV5Wn-ohXO",
        "colab": {
          "base_uri": "https://localhost:8080/"
        },
        "outputId": "3f3a4ca7-74ab-425e-9550-1c927b2f5b40"
      },
      "source": [
        "import time\n",
        "start = time.time()\n",
        "c = np.dot(a,b)\n",
        "end = time.time()\n",
        "print(c)\n",
        "print(\"Time taken for Verctorized Implementation  : \" +  str((end -start)*1000) + 'ms')"
      ],
      "execution_count": 27,
      "outputs": [
        {
          "output_type": "stream",
          "text": [
            "121.6889477314456\n",
            "Time taken for Verctorized Implementation  : 0.4897117614746094ms\n"
          ],
          "name": "stdout"
        }
      ]
    },
    {
      "cell_type": "markdown",
      "metadata": {
        "id": "OHhxg5CKo4SL"
      },
      "source": [
        "#### Non Vectorised Implementation (Looping)"
      ]
    },
    {
      "cell_type": "code",
      "metadata": {
        "id": "pVWSsxxVohTi",
        "colab": {
          "base_uri": "https://localhost:8080/"
        },
        "outputId": "d85549c4-3a7e-4582-ed55-abfc4c0f5a9f"
      },
      "source": [
        "c =0\n",
        "start = time.time()\n",
        "for i in range(num):\n",
        "    c += a[i]*b[i]\n",
        "end = time.time()\n",
        "print(c)\n",
        "print(\"Time taken for Loop version  : \" +  str((end -start)*1000) + 'ms')\n"
      ],
      "execution_count": 28,
      "outputs": [
        {
          "output_type": "stream",
          "text": [
            "121.68894773144558\n",
            "Time taken for Loop version  : 0.9102821350097656ms\n"
          ],
          "name": "stdout"
        }
      ]
    },
    {
      "cell_type": "markdown",
      "metadata": {
        "id": "h66ETMe_CPOG"
      },
      "source": [
        "####  Array Slicing"
      ]
    },
    {
      "cell_type": "code",
      "metadata": {
        "id": "vvBuqs0OCPlc",
        "colab": {
          "base_uri": "https://localhost:8080/"
        },
        "outputId": "76e2501c-ff2c-461b-cffa-7178925b782e"
      },
      "source": [
        "a =np.array([1,5,2,6,3,8,9])\n",
        "print(a)"
      ],
      "execution_count": 29,
      "outputs": [
        {
          "output_type": "stream",
          "text": [
            "[1 5 2 6 3 8 9]\n"
          ],
          "name": "stdout"
        }
      ]
    },
    {
      "cell_type": "code",
      "metadata": {
        "id": "t4YUEdrvJxn5",
        "colab": {
          "base_uri": "https://localhost:8080/"
        },
        "outputId": "8d8b4508-7e3d-4963-9b96-f549888aa610"
      },
      "source": [
        "print(a[:])   #Printing all the element"
      ],
      "execution_count": 30,
      "outputs": [
        {
          "output_type": "stream",
          "text": [
            "[1 5 2 6 3 8 9]\n"
          ],
          "name": "stdout"
        }
      ]
    },
    {
      "cell_type": "code",
      "metadata": {
        "id": "Rvqa8Ie_JxuJ",
        "colab": {
          "base_uri": "https://localhost:8080/"
        },
        "outputId": "8b635f71-be01-43aa-fe0f-e581ff66d445"
      },
      "source": [
        "print(a[:3])  #Printing first three elements"
      ],
      "execution_count": 31,
      "outputs": [
        {
          "output_type": "stream",
          "text": [
            "[1 5 2]\n"
          ],
          "name": "stdout"
        }
      ]
    },
    {
      "cell_type": "code",
      "metadata": {
        "id": "IUgQbjv5Jxz9",
        "colab": {
          "base_uri": "https://localhost:8080/"
        },
        "outputId": "577f4651-9c95-4630-c64f-521391d615e1"
      },
      "source": [
        "print(a[3:])  #Starting from 3 print all"
      ],
      "execution_count": 32,
      "outputs": [
        {
          "output_type": "stream",
          "text": [
            "[6 3 8 9]\n"
          ],
          "name": "stdout"
        }
      ]
    },
    {
      "cell_type": "code",
      "metadata": {
        "id": "zr7XfxxMJx9h",
        "colab": {
          "base_uri": "https://localhost:8080/"
        },
        "outputId": "75cdac37-4fa3-4070-f895-213a952f6aa5"
      },
      "source": [
        "print(a[2:5]) #Starting from 2 excluding 5"
      ],
      "execution_count": 33,
      "outputs": [
        {
          "output_type": "stream",
          "text": [
            "[2 6 3]\n"
          ],
          "name": "stdout"
        }
      ]
    },
    {
      "cell_type": "code",
      "metadata": {
        "id": "jr41XbwTJyDx",
        "colab": {
          "base_uri": "https://localhost:8080/"
        },
        "outputId": "64296de7-4917-4b64-a6ef-cb14b6ff0a89"
      },
      "source": [
        "print(a[::2]) #Starting from 0 one interval"
      ],
      "execution_count": 34,
      "outputs": [
        {
          "output_type": "stream",
          "text": [
            "[1 2 3 9]\n"
          ],
          "name": "stdout"
        }
      ]
    },
    {
      "cell_type": "code",
      "metadata": {
        "id": "NCZPge-bJyLU",
        "colab": {
          "base_uri": "https://localhost:8080/"
        },
        "outputId": "4bf38dc2-96b9-4b14-de55-6801b52b44f9"
      },
      "source": [
        "print(a[3::2])#Starting from 3 two interval (including 3)"
      ],
      "execution_count": 35,
      "outputs": [
        {
          "output_type": "stream",
          "text": [
            "[6 8]\n"
          ],
          "name": "stdout"
        }
      ]
    },
    {
      "cell_type": "code",
      "metadata": {
        "id": "9ezyOcKgJ_tY",
        "colab": {
          "base_uri": "https://localhost:8080/"
        },
        "outputId": "7567e59b-5c29-4138-f75a-63df9d2ce5e0"
      },
      "source": [
        "print(a[::-1])#Printing in reverse order"
      ],
      "execution_count": 36,
      "outputs": [
        {
          "output_type": "stream",
          "text": [
            "[9 8 3 6 2 5 1]\n"
          ],
          "name": "stdout"
        }
      ]
    },
    {
      "cell_type": "markdown",
      "metadata": {
        "id": "YSTFa7WGcp4Z"
      },
      "source": [
        "###  Broadcasting\n",
        "Broadcasting is a powerful mechanism that allows numpy to work with arrays of different shapes when performing arithmetic operations. Frequently we have a smaller array and a larger array, and we want to use the smaller array multiple times to perform some operation on the larger array."
      ]
    },
    {
      "cell_type": "code",
      "metadata": {
        "id": "tnZyBX8GdqUa",
        "colab": {
          "base_uri": "https://localhost:8080/"
        },
        "outputId": "7aeacfd4-37ae-41eb-c18f-f574f9eec0ff"
      },
      "source": [
        "import numpy as np\n",
        "a = np.arange(5)\n",
        "b = 1\n",
        "print(a)\n",
        "print(\"\")\n",
        "\n",
        "print(b)\n",
        "print(\"\")\n",
        "\n",
        "a+b"
      ],
      "execution_count": 76,
      "outputs": [
        {
          "output_type": "stream",
          "text": [
            "[0 1 2 3 4]\n",
            "\n",
            "1\n",
            "\n"
          ],
          "name": "stdout"
        },
        {
          "output_type": "execute_result",
          "data": {
            "text/plain": [
              "array([1, 2, 3, 4, 5])"
            ]
          },
          "metadata": {
            "tags": []
          },
          "execution_count": 76
        }
      ]
    },
    {
      "cell_type": "code",
      "metadata": {
        "id": "0WaZw7Tqd3HS",
        "colab": {
          "base_uri": "https://localhost:8080/"
        },
        "outputId": "470f7496-5459-4364-d205-04b56151143d"
      },
      "source": [
        "a = np.arange(6).reshape(2,3)\n",
        "print(a)\n",
        "print(\"\")\n",
        "b = np.arange(3).reshape(1,3)\n",
        "print(b)\n",
        "print(\"\")\n",
        "a+b"
      ],
      "execution_count": 40,
      "outputs": [
        {
          "output_type": "stream",
          "text": [
            "[[0 1 2]\n",
            " [3 4 5]]\n",
            "\n",
            "[[0 1 2]]\n",
            "\n"
          ],
          "name": "stdout"
        },
        {
          "output_type": "execute_result",
          "data": {
            "text/plain": [
              "array([[0, 2, 4],\n",
              "       [3, 5, 7]])"
            ]
          },
          "metadata": {
            "tags": []
          },
          "execution_count": 40
        }
      ]
    },
    {
      "cell_type": "code",
      "metadata": {
        "id": "Czbc6XNAej3j",
        "colab": {
          "base_uri": "https://localhost:8080/"
        },
        "outputId": "cfb806f1-ea3a-44e4-d0ad-03b2ecaaed2a"
      },
      "source": [
        "a = np.arange(6).reshape(2,3)\n",
        "print(a)\n",
        "print(\"\")\n",
        "b = np.array([0,1]).reshape(2,1)\n",
        "print(b)\n",
        "print(\"\")\n",
        "a+b"
      ],
      "execution_count": 42,
      "outputs": [
        {
          "output_type": "stream",
          "text": [
            "[[0 1 2]\n",
            " [3 4 5]]\n",
            "\n",
            "[[0]\n",
            " [1]]\n",
            "\n"
          ],
          "name": "stdout"
        },
        {
          "output_type": "execute_result",
          "data": {
            "text/plain": [
              "array([[0, 1, 2],\n",
              "       [4, 5, 6]])"
            ]
          },
          "metadata": {
            "tags": []
          },
          "execution_count": 42
        }
      ]
    },
    {
      "cell_type": "code",
      "metadata": {
        "id": "Ua73xoVFe-vL",
        "colab": {
          "base_uri": "https://localhost:8080/"
        },
        "outputId": "aece91f5-3195-4300-ef9a-850af4a0d7ca"
      },
      "source": [
        "a = np.arange(6).reshape(2,3)\n",
        "print(a)\n",
        "print(\"\")\n",
        "b = 2\n",
        "print(b)\n",
        "print(\"\")\n",
        "a+b"
      ],
      "execution_count": 44,
      "outputs": [
        {
          "output_type": "stream",
          "text": [
            "[[0 1 2]\n",
            " [3 4 5]]\n",
            "\n",
            "2\n",
            "\n"
          ],
          "name": "stdout"
        },
        {
          "output_type": "execute_result",
          "data": {
            "text/plain": [
              "array([[2, 3, 4],\n",
              "       [5, 6, 7]])"
            ]
          },
          "metadata": {
            "tags": []
          },
          "execution_count": 44
        }
      ]
    },
    {
      "cell_type": "code",
      "metadata": {
        "id": "FWr1OlkRfN8q",
        "colab": {
          "base_uri": "https://localhost:8080/"
        },
        "outputId": "f76b4840-f6e5-44a7-c3b4-48349ec7e9de"
      },
      "source": [
        "a = np.array([0,3]).reshape(2,1)\n",
        "print(a)\n",
        "print(\"\")\n",
        "b = np.arange(3).reshape(1,3)\n",
        "print(b)\n",
        "print(\"\")\n",
        "a+b"
      ],
      "execution_count": 46,
      "outputs": [
        {
          "output_type": "stream",
          "text": [
            "[[0]\n",
            " [3]]\n",
            "\n",
            "[[0 1 2]]\n",
            "\n"
          ],
          "name": "stdout"
        },
        {
          "output_type": "execute_result",
          "data": {
            "text/plain": [
              "array([[0, 1, 2],\n",
              "       [3, 4, 5]])"
            ]
          },
          "metadata": {
            "tags": []
          },
          "execution_count": 46
        }
      ]
    },
    {
      "cell_type": "markdown",
      "metadata": {
        "id": "II14xPTZqlZ4"
      },
      "source": [
        "###  Lists\n",
        "A list is the Python equivalent of an array, but is resizeable and can contain elements of different types.\n",
        "\n",
        "\n",
        "1.   Declaring List\n",
        "2.   Indentify the type\n",
        "1.   Accesing list elements\n",
        "2.   Printing the last element\n",
        "3.   Adding the elements into the list\n",
        "5.   Inserting at particular location\n",
        "2.   Popping the elements from the list\n",
        "5.   Clearing the list\n",
        "6.   Deleting the list\n",
        "\n"
      ]
    },
    {
      "cell_type": "code",
      "metadata": {
        "id": "AEMg4QXwH41j",
        "colab": {
          "base_uri": "https://localhost:8080/"
        },
        "outputId": "ef37c79d-c345-434c-88e0-d78dfef6284e"
      },
      "source": [
        "l = [1,2,3, 'abc',True]\n",
        "p = []\n",
        "\n",
        "print(l[4])"
      ],
      "execution_count": 80,
      "outputs": [
        {
          "output_type": "stream",
          "text": [
            "True\n"
          ],
          "name": "stdout"
        }
      ]
    },
    {
      "cell_type": "code",
      "metadata": {
        "id": "kdnspWMdRoCX",
        "colab": {
          "base_uri": "https://localhost:8080/"
        },
        "outputId": "03219421-6acb-47b6-8658-6a8bc087555a"
      },
      "source": [
        "print(type(l))"
      ],
      "execution_count": 48,
      "outputs": [
        {
          "output_type": "stream",
          "text": [
            "<class 'list'>\n"
          ],
          "name": "stdout"
        }
      ]
    },
    {
      "cell_type": "code",
      "metadata": {
        "id": "26LWhxtyJevg",
        "colab": {
          "base_uri": "https://localhost:8080/"
        },
        "outputId": "660c608d-49a0-4c3a-8010-d95e02ad2d15"
      },
      "source": [
        "print(l[-1])"
      ],
      "execution_count": 49,
      "outputs": [
        {
          "output_type": "stream",
          "text": [
            "True\n"
          ],
          "name": "stdout"
        }
      ]
    },
    {
      "cell_type": "code",
      "metadata": {
        "id": "TSq6GNb7Je0_",
        "colab": {
          "base_uri": "https://localhost:8080/"
        },
        "outputId": "0c217f40-fa31-4e5c-a345-ccb5a0833983"
      },
      "source": [
        "l.append(4)\n",
        "print(l)"
      ],
      "execution_count": 50,
      "outputs": [
        {
          "output_type": "stream",
          "text": [
            "[1, 2, 3, 'abc', True, 4]\n"
          ],
          "name": "stdout"
        }
      ]
    },
    {
      "cell_type": "code",
      "metadata": {
        "id": "isB57nkqNecR",
        "colab": {
          "base_uri": "https://localhost:8080/"
        },
        "outputId": "d775f843-13fc-4274-a1c1-9d0b06da26a5"
      },
      "source": [
        "l.insert(1, 100)\n",
        "print(l)"
      ],
      "execution_count": 51,
      "outputs": [
        {
          "output_type": "stream",
          "text": [
            "[1, 100, 2, 3, 'abc', True, 4]\n"
          ],
          "name": "stdout"
        }
      ]
    },
    {
      "cell_type": "code",
      "metadata": {
        "id": "u6iUYBa_Je55",
        "colab": {
          "base_uri": "https://localhost:8080/"
        },
        "outputId": "bb52bc55-d0a4-490a-ad1a-573c94be3baf"
      },
      "source": [
        "l.pop()\n",
        "print(l)"
      ],
      "execution_count": 52,
      "outputs": [
        {
          "output_type": "stream",
          "text": [
            "[1, 100, 2, 3, 'abc', True]\n"
          ],
          "name": "stdout"
        }
      ]
    },
    {
      "cell_type": "code",
      "metadata": {
        "id": "6SFD3R2jLvYK",
        "colab": {
          "base_uri": "https://localhost:8080/"
        },
        "outputId": "b967d769-a4b1-45da-c109-7d4af923cf20"
      },
      "source": [
        "l.clear()\n",
        "print(l)"
      ],
      "execution_count": 53,
      "outputs": [
        {
          "output_type": "stream",
          "text": [
            "[]\n"
          ],
          "name": "stdout"
        }
      ]
    },
    {
      "cell_type": "code",
      "metadata": {
        "id": "S06rdRxaJe9V"
      },
      "source": [
        "del l"
      ],
      "execution_count": 54,
      "outputs": []
    },
    {
      "cell_type": "markdown",
      "metadata": {
        "id": "_Z4Y5SLmQ0B2"
      },
      "source": [
        "###  Tuples\n",
        "A tuple is an (immutable) ordered list of values. A tuple is in many ways similar to a list; one of the most important differences is that tuples can be used as keys in dictionaries and as elements of sets, while lists cannot.\n",
        "#### Tuple Operations\n",
        "1.   Initial element\n",
        "2.   Final Element\n",
        "3.   Length of tuple\n",
        "4.   Delete Tuples"
      ]
    },
    {
      "cell_type": "code",
      "metadata": {
        "id": "_OTg1yeaRLjm",
        "colab": {
          "base_uri": "https://localhost:8080/"
        },
        "outputId": "832f5559-9812-47b6-963f-5ca49a5937eb"
      },
      "source": [
        "a = (1,2,3,4)\n",
        "print(type(a))"
      ],
      "execution_count": 82,
      "outputs": [
        {
          "output_type": "stream",
          "text": [
            "<class 'tuple'>\n"
          ],
          "name": "stdout"
        }
      ]
    },
    {
      "cell_type": "code",
      "metadata": {
        "id": "-oZtifw1R9dW",
        "colab": {
          "base_uri": "https://localhost:8080/"
        },
        "outputId": "1ef0f1fb-f131-4fd1-e943-cfa92c1bf4b1"
      },
      "source": [
        "print(a[-2])"
      ],
      "execution_count": 83,
      "outputs": [
        {
          "output_type": "stream",
          "text": [
            "3\n"
          ],
          "name": "stdout"
        }
      ]
    },
    {
      "cell_type": "code",
      "metadata": {
        "id": "3mN_G34CR_PW",
        "colab": {
          "base_uri": "https://localhost:8080/"
        },
        "outputId": "4256b960-e634-42a4-edc7-dcab36d7b027"
      },
      "source": [
        "print(len(a))"
      ],
      "execution_count": 57,
      "outputs": [
        {
          "output_type": "stream",
          "text": [
            "4\n"
          ],
          "name": "stdout"
        }
      ]
    },
    {
      "cell_type": "code",
      "metadata": {
        "id": "MLewLCM_SBAv"
      },
      "source": [
        "del a"
      ],
      "execution_count": 58,
      "outputs": []
    },
    {
      "cell_type": "markdown",
      "metadata": {
        "id": "1ti6xcKXdqoY"
      },
      "source": [
        "### Difference between list and tuples\n",
        "\n",
        "* The main difference between lists and a tuples is the fact that lists are mutable whereas tuples are immutable.\n",
        "* A mutable data type means that a python object of this type can be modified.\n",
        "* Immutable data type means that a python object of this type can't be modified."
      ]
    },
    {
      "cell_type": "code",
      "metadata": {
        "id": "bVKbGiedd6Su",
        "colab": {
          "base_uri": "https://localhost:8080/"
        },
        "outputId": "bda80f0a-26ad-40f3-ae27-ccef232e7d90"
      },
      "source": [
        "a = [\"apples\", \"bananas\", \"oranges\"]\n",
        "\n",
        "a[0] = \"berries\"\n",
        "\n",
        "print(a)"
      ],
      "execution_count": 59,
      "outputs": [
        {
          "output_type": "stream",
          "text": [
            "['berries', 'bananas', 'oranges']\n"
          ],
          "name": "stdout"
        }
      ]
    },
    {
      "cell_type": "code",
      "metadata": {
        "id": "E_P54YGmeK_Z",
        "colab": {
          "base_uri": "https://localhost:8080/",
          "height": 250
        },
        "outputId": "a1ba825a-9a58-43c0-9a97-d84cee0fc1da"
      },
      "source": [
        "a = (\"apples\", \"bananas\", \"oranges\")\n",
        "\n",
        "a[0] = \"berries\"\n",
        "\n",
        "print(a)"
      ],
      "execution_count": 84,
      "outputs": [
        {
          "output_type": "error",
          "ename": "TypeError",
          "evalue": "ignored",
          "traceback": [
            "\u001b[0;31m---------------------------------------------------------------------------\u001b[0m",
            "\u001b[0;31mTypeError\u001b[0m                                 Traceback (most recent call last)",
            "\u001b[0;32m<ipython-input-84-46a282d38b6a>\u001b[0m in \u001b[0;36m<module>\u001b[0;34m()\u001b[0m\n\u001b[1;32m      1\u001b[0m \u001b[0ma\u001b[0m \u001b[0;34m=\u001b[0m \u001b[0;34m(\u001b[0m\u001b[0;34m\"apples\"\u001b[0m\u001b[0;34m,\u001b[0m \u001b[0;34m\"bananas\"\u001b[0m\u001b[0;34m,\u001b[0m \u001b[0;34m\"oranges\"\u001b[0m\u001b[0;34m)\u001b[0m\u001b[0;34m\u001b[0m\u001b[0;34m\u001b[0m\u001b[0m\n\u001b[1;32m      2\u001b[0m \u001b[0;34m\u001b[0m\u001b[0m\n\u001b[0;32m----> 3\u001b[0;31m \u001b[0ma\u001b[0m\u001b[0;34m[\u001b[0m\u001b[0;36m0\u001b[0m\u001b[0;34m]\u001b[0m \u001b[0;34m=\u001b[0m \u001b[0;34m\"berries\"\u001b[0m\u001b[0;34m\u001b[0m\u001b[0;34m\u001b[0m\u001b[0m\n\u001b[0m\u001b[1;32m      4\u001b[0m \u001b[0;34m\u001b[0m\u001b[0m\n\u001b[1;32m      5\u001b[0m \u001b[0mprint\u001b[0m\u001b[0;34m(\u001b[0m\u001b[0ma\u001b[0m\u001b[0;34m)\u001b[0m\u001b[0;34m\u001b[0m\u001b[0;34m\u001b[0m\u001b[0m\n",
            "\u001b[0;31mTypeError\u001b[0m: 'tuple' object does not support item assignment"
          ]
        }
      ]
    },
    {
      "cell_type": "markdown",
      "metadata": {
        "id": "OKJFj_3FaXbY"
      },
      "source": [
        "###  Dictionary\n",
        "A dictionary stores (key, value) pairs, similar to a Map in Java or an object in Javascript. You can use it like this:\n",
        "\n",
        "\n",
        "1.   Checking the presence of elements in dictionary\n",
        "2.   Print Keys and Values \n",
        "3.   Print length of dictionary\n",
        "4.   Getting the keys from the dictionary\n",
        "7.   Updating the element in dictionary\n",
        "8.   Delete"
      ]
    },
    {
      "cell_type": "code",
      "metadata": {
        "id": "uR9-BV8oaWx9",
        "colab": {
          "base_uri": "https://localhost:8080/"
        },
        "outputId": "a693660b-b8ff-4ced-9d0c-20fcef0932c0"
      },
      "source": [
        "alpha =  {'name':['abc, def'],'roll no':[12,34]}\n",
        "print(type(alpha))"
      ],
      "execution_count": 86,
      "outputs": [
        {
          "output_type": "stream",
          "text": [
            "<class 'dict'>\n"
          ],
          "name": "stdout"
        }
      ]
    },
    {
      "cell_type": "code",
      "metadata": {
        "id": "E06ObNQ0aloQ",
        "colab": {
          "base_uri": "https://localhost:8080/"
        },
        "outputId": "d5a9b631-0f3b-407f-a53a-7d9ef051b5b7"
      },
      "source": [
        "print(alpha)\n",
        "print(\"\")"
      ],
      "execution_count": 87,
      "outputs": [
        {
          "output_type": "stream",
          "text": [
            "{'name': ['abc, def'], 'roll no': [12, 34]}\n",
            "\n"
          ],
          "name": "stdout"
        }
      ]
    },
    {
      "cell_type": "code",
      "metadata": {
        "id": "UyG2rZfreYTo"
      },
      "source": [
        "print(alpha.values())\n",
        "print(\"\")"
      ],
      "execution_count": null,
      "outputs": []
    },
    {
      "cell_type": "code",
      "metadata": {
        "id": "pQMllCiWeYaF",
        "colab": {
          "base_uri": "https://localhost:8080/"
        },
        "outputId": "2745cd0d-8b6f-4cb7-87b5-ab490874f877"
      },
      "source": [
        "print(alpha.keys())\n",
        "print(\"\")"
      ],
      "execution_count": 88,
      "outputs": [
        {
          "output_type": "stream",
          "text": [
            "dict_keys(['name', 'roll no'])\n",
            "\n"
          ],
          "name": "stdout"
        }
      ]
    },
    {
      "cell_type": "code",
      "metadata": {
        "id": "vdYRyaAKee2_"
      },
      "source": [
        "print(len(alpha))"
      ],
      "execution_count": null,
      "outputs": []
    },
    {
      "cell_type": "code",
      "metadata": {
        "id": "6vJ3BdvlejyD"
      },
      "source": [
        "print(alpha['a'])\n",
        "print(\"\")"
      ],
      "execution_count": null,
      "outputs": []
    },
    {
      "cell_type": "code",
      "metadata": {
        "id": "bj-PUqELalsR"
      },
      "source": [
        "print(alpha['b'])"
      ],
      "execution_count": null,
      "outputs": []
    },
    {
      "cell_type": "code",
      "metadata": {
        "id": "YKnFzBiift7F"
      },
      "source": [
        "#print(alpha['c'])"
      ],
      "execution_count": null,
      "outputs": []
    },
    {
      "cell_type": "code",
      "metadata": {
        "id": "N8bQVVgealy9"
      },
      "source": [
        "alpha.update({'c':3})\n",
        "print(alpha)"
      ],
      "execution_count": null,
      "outputs": []
    },
    {
      "cell_type": "markdown",
      "metadata": {
        "id": "9-tNVvbBfn28"
      },
      "source": [
        "### Sets\n",
        "A set is an unordered collection of distinct elements. As a simple example, consider the following\n",
        "1.   Check the elements in sets\n",
        "2.   Length of sets\n",
        "3.   Add elements to sets \n",
        "4.   Remove the elements from sets\n",
        "5.   Iterate with enumerate\n",
        "6.   Delete"
      ]
    },
    {
      "cell_type": "code",
      "metadata": {
        "id": "VCtX1a9yCtlW",
        "colab": {
          "base_uri": "https://localhost:8080/"
        },
        "outputId": "65dc5d7c-edb6-45f5-83aa-5965dbe22c56"
      },
      "source": [
        "s = {\"b\",\"a\"}\n",
        "print(s)"
      ],
      "execution_count": 89,
      "outputs": [
        {
          "output_type": "stream",
          "text": [
            "{'b', 'a'}\n"
          ],
          "name": "stdout"
        }
      ]
    },
    {
      "cell_type": "code",
      "metadata": {
        "id": "mAsO8gRhCtwY"
      },
      "source": [
        "print(\"a\" in s)"
      ],
      "execution_count": null,
      "outputs": []
    },
    {
      "cell_type": "code",
      "metadata": {
        "id": "7lWPKJCKCt3f"
      },
      "source": [
        "print(\"z\" in s)"
      ],
      "execution_count": null,
      "outputs": []
    },
    {
      "cell_type": "code",
      "metadata": {
        "id": "fUn_XFPpCuAm",
        "colab": {
          "base_uri": "https://localhost:8080/"
        },
        "outputId": "963c5b03-c68d-47ae-d060-c3b8e366fdb5"
      },
      "source": [
        "s.add(\"c\")\n",
        "print(s)"
      ],
      "execution_count": 90,
      "outputs": [
        {
          "output_type": "stream",
          "text": [
            "{'b', 'a', 'c'}\n"
          ],
          "name": "stdout"
        }
      ]
    },
    {
      "cell_type": "code",
      "metadata": {
        "colab": {
          "base_uri": "https://localhost:8080/"
        },
        "id": "rt_UU04_ZVHN",
        "outputId": "9c4c75cb-faf0-4c51-be66-b4ddcf86a4a7"
      },
      "source": [
        "s.add(\"b\")\r\n",
        "print(s)"
      ],
      "execution_count": 91,
      "outputs": [
        {
          "output_type": "stream",
          "text": [
            "{'b', 'a', 'c'}\n"
          ],
          "name": "stdout"
        }
      ]
    },
    {
      "cell_type": "code",
      "metadata": {
        "id": "W2yMVq-JCuHE"
      },
      "source": [
        "s.remove(\"a\")\n",
        "print(s)"
      ],
      "execution_count": null,
      "outputs": []
    },
    {
      "cell_type": "markdown",
      "metadata": {
        "id": "uYtKFkRPgpq0"
      },
      "source": [
        "#### Set Operation\n",
        "\n",
        "\n",
        "1.   Union\n",
        "2.   Intersection\n",
        "3.   Difference"
      ]
    },
    {
      "cell_type": "code",
      "metadata": {
        "id": "c05Vs4m5alwE"
      },
      "source": [
        "a = {1,2,3,4}\n",
        "b = {1,6,7,8}\n",
        "\n",
        "c= a | b\n",
        "print(c)\n",
        "print(type(a))"
      ],
      "execution_count": null,
      "outputs": []
    },
    {
      "cell_type": "code",
      "metadata": {
        "id": "MbG-57etgz1U"
      },
      "source": [
        "f= a & b\n",
        "print(f)"
      ],
      "execution_count": null,
      "outputs": []
    },
    {
      "cell_type": "code",
      "metadata": {
        "id": "DAJJPPoJg3CF"
      },
      "source": [
        "d = a-b\n",
        "print(d)"
      ],
      "execution_count": null,
      "outputs": []
    },
    {
      "cell_type": "code",
      "metadata": {
        "id": "k53wkInyg72z"
      },
      "source": [
        "e = b-a\n",
        "print(e)"
      ],
      "execution_count": null,
      "outputs": []
    },
    {
      "cell_type": "markdown",
      "metadata": {
        "id": "KXDbxqohNUaz"
      },
      "source": [
        "Dataframe - Pandas"
      ]
    },
    {
      "cell_type": "code",
      "metadata": {
        "id": "HNJ3r7yuNW3n"
      },
      "source": [
        "import pandas as pd\r\n",
        "df = pd.DataFrame(data=[1.,2.,3,4.1,5.6])\r\n",
        "print(type(df))\r\n",
        "dict1 = {'name':[\"aprith\", \"jothi\"], 'roll no': [23, 16]}\r\n",
        "df2 = pd.DataFrame(dict1)\r\n",
        "#print(df2.head(0))\r\n",
        "#print(df2.iloc[1])\r\n",
        "df2 = df2.append({'name':\"tarini\",'roll no':45}, ignore_index=True)\r\n",
        "print(df2)\r\n",
        "df2.to_csv(\"test.csv\")"
      ],
      "execution_count": null,
      "outputs": []
    },
    {
      "cell_type": "markdown",
      "metadata": {
        "id": "fvEPIGArTZc1"
      },
      "source": [
        "Tensorflow\r\n",
        "Tensorflow is an open-source machine learning framework that is used for complex numerical computation.\r\n",
        "A tensor can be described as a n-dimensional numerical array. A tensor can be called a generalized matrix. \r\n",
        "A tensor is identified by three parameters viz., rank, shape and size. The number of dimensions of the tensor is said to be its rank. The number of columns and rows that the tensor has, is said to be its shape. And, the data type assigned to the tensor’s elements is said to be its type.\r\n"
      ]
    },
    {
      "cell_type": "code",
      "metadata": {
        "id": "jRNL3--7Tt-S"
      },
      "source": [
        "import tensorflow as tf \r\n",
        "  \r\n",
        "t1 = tf.constant([1., 2., 3., 4., 5.,]) \r\n",
        "print(t1, type(t1))\r\n",
        "t2 = tf.linspace(1.0, 10.0, 5, \"linspace_inc\")\r\n",
        "print(t2)\r\n",
        "t2.shape\r\n",
        "t1+t2"
      ],
      "execution_count": null,
      "outputs": []
    },
    {
      "cell_type": "code",
      "metadata": {
        "colab": {
          "base_uri": "https://localhost:8080/",
          "height": 288
        },
        "id": "2UudtdC6VPLK",
        "outputId": "f5a35880-9a59-49b7-c707-d08d44b9fe72"
      },
      "source": [
        "import torch as pt\r\n",
        "import numpy as np\r\n",
        "\r\n",
        "a = np.asarray(([1.,2.,3.,],[4.,5.,6.,],[7.,8.,9.,]))\r\n",
        "b = pt.tensor(([1.,2.,3.,],[4.,5.,6.,],[7.,8.,9.,]))\r\n",
        "print(type(a))\r\n",
        "print(type(b))\r\n",
        "print(a+b)\r\n",
        "c = b.numpy()\r\n",
        "#print(a+c)\r\n",
        "d = pt.tensor(a)\r\n",
        "print(pt.add(d,b))"
      ],
      "execution_count": 93,
      "outputs": [
        {
          "output_type": "stream",
          "text": [
            "<class 'numpy.ndarray'>\n",
            "<class 'torch.Tensor'>\n"
          ],
          "name": "stdout"
        },
        {
          "output_type": "error",
          "ename": "TypeError",
          "evalue": "ignored",
          "traceback": [
            "\u001b[0;31m---------------------------------------------------------------------------\u001b[0m",
            "\u001b[0;31mTypeError\u001b[0m                                 Traceback (most recent call last)",
            "\u001b[0;32m<ipython-input-93-cd64c319cf6c>\u001b[0m in \u001b[0;36m<module>\u001b[0;34m()\u001b[0m\n\u001b[1;32m      6\u001b[0m \u001b[0mprint\u001b[0m\u001b[0;34m(\u001b[0m\u001b[0mtype\u001b[0m\u001b[0;34m(\u001b[0m\u001b[0ma\u001b[0m\u001b[0;34m)\u001b[0m\u001b[0;34m)\u001b[0m\u001b[0;34m\u001b[0m\u001b[0;34m\u001b[0m\u001b[0m\n\u001b[1;32m      7\u001b[0m \u001b[0mprint\u001b[0m\u001b[0;34m(\u001b[0m\u001b[0mtype\u001b[0m\u001b[0;34m(\u001b[0m\u001b[0mb\u001b[0m\u001b[0;34m)\u001b[0m\u001b[0;34m)\u001b[0m\u001b[0;34m\u001b[0m\u001b[0;34m\u001b[0m\u001b[0m\n\u001b[0;32m----> 8\u001b[0;31m \u001b[0mprint\u001b[0m\u001b[0;34m(\u001b[0m\u001b[0ma\u001b[0m\u001b[0;34m+\u001b[0m\u001b[0mb\u001b[0m\u001b[0;34m)\u001b[0m\u001b[0;34m\u001b[0m\u001b[0;34m\u001b[0m\u001b[0m\n\u001b[0m\u001b[1;32m      9\u001b[0m \u001b[0mc\u001b[0m \u001b[0;34m=\u001b[0m \u001b[0mb\u001b[0m\u001b[0;34m.\u001b[0m\u001b[0mnumpy\u001b[0m\u001b[0;34m(\u001b[0m\u001b[0;34m)\u001b[0m\u001b[0;34m\u001b[0m\u001b[0;34m\u001b[0m\u001b[0m\n\u001b[1;32m     10\u001b[0m \u001b[0;31m#print(a+c)\u001b[0m\u001b[0;34m\u001b[0m\u001b[0;34m\u001b[0m\u001b[0;34m\u001b[0m\u001b[0m\n",
            "\u001b[0;31mTypeError\u001b[0m: unsupported operand type(s) for +: 'numpy.ndarray' and 'Tensor'"
          ]
        }
      ]
    }
  ]
}